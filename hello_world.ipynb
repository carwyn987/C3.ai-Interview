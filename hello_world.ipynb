{
 "cells": [
  {
   "cell_type": "markdown",
   "id": "79fb06f3-786e-4494-ac51-4efc115bced4",
   "metadata": {},
   "source": [
    "# Hello World - JupyterLab, Pandas, Scikit-Learn, PyTorch\n",
    "Author: Carwyn Collinsworth\n",
    "Date: 01/25/2023"
   ]
  },
  {
   "cell_type": "code",
   "execution_count": 5,
   "id": "eb904f01-2151-4269-be6f-7999e019260f",
   "metadata": {},
   "outputs": [],
   "source": [
    "import pandas as pd\n",
    "import numpy as np\n",
    "import torch\n",
    "import sklearn"
   ]
  },
  {
   "cell_type": "code",
   "execution_count": null,
   "id": "3793f666-de54-4a3b-99da-2db44167fd2f",
   "metadata": {},
   "outputs": [],
   "source": []
  }
 ],
 "metadata": {
  "kernelspec": {
   "display_name": "Python 3 (ipykernel)",
   "language": "python",
   "name": "python3"
  },
  "language_info": {
   "codemirror_mode": {
    "name": "ipython",
    "version": 3
   },
   "file_extension": ".py",
   "mimetype": "text/x-python",
   "name": "python",
   "nbconvert_exporter": "python",
   "pygments_lexer": "ipython3",
   "version": "3.7.16"
  }
 },
 "nbformat": 4,
 "nbformat_minor": 5
}
